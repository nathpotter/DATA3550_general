{
  "nbformat": 4,
  "nbformat_minor": 0,
  "metadata": {
    "kernelspec": {
      "display_name": "Python 3 (ipykernel)",
      "language": "python",
      "name": "python3"
    },
    "language_info": {
      "codemirror_mode": {
        "name": "ipython",
        "version": 3
      },
      "file_extension": ".py",
      "mimetype": "text/x-python",
      "name": "python",
      "nbconvert_exporter": "python",
      "pygments_lexer": "ipython3",
      "version": "3.8.11"
    },
    "colab": {
      "provenance": []
    }
  },
  "cells": [
    {
      "cell_type": "markdown",
      "metadata": {
        "id": "ABDLrUA1qakU"
      },
      "source": [
        "#### **Assignment 1: Nathakan Techadis**\n",
        "File: Assignment 1_v1.0.pdf"
      ]
    },
    {
      "cell_type": "markdown",
      "metadata": {
        "id": "KvGPRz1ZqakZ"
      },
      "source": [
        "#### **1.Calories Burned During A Workout**\n",
        "The following equations estimate the calories burned when exercising ([source](https://web.archive.org/web/20121021230025/http:/fitnowtraining.com/2012/01/formula-for-calories-burned/)):\n",
        "\n",
        "*    Women: Calories = ( (Age x 0.074) + (Weight x 0.05741) + (Heart Rate x 0.4472) — 20.4022 ) x Time / 4.184\n",
        "*    Men: Calories = ( (Age x 0.2017) + (Weight x 0.09036) + (Heart Rate x 0.6309) — 55.0969 ) x Time / 4.184\n",
        "\n",
        "**Write a program** using inputs age (years), weight (pounds), heart rate (beats per minute), and time (minutes), respectively. Output calories burned for women and men. Output each floating-point value with two digits after the decimal point."
      ]
    },
    {
      "cell_type": "code",
      "source": [
        "# Women: Calories Function\n",
        "def calc_women_cal(age, weight, HR, time):\n",
        "  return (age*0.074 + weight*0.05741 + HR*0.4472 - 20.4022)*(time/4.184)\n",
        "\n",
        "# Men: Calories Function\n",
        "def calc_men_cal(age, weight, HR, time):\n",
        "  return (age*0.2017 + weight*0.09036 + HR*0.6309 - 55.0969)*(time/4.184)\n",
        "\n",
        "# Convert function\n",
        "def try_parse_int(value):\n",
        "  try:\n",
        "    result = int(value)\n",
        "    if result >= 0:\n",
        "      return True, int(value)  #Can convert return (True, value)\n",
        "    else:\n",
        "      return False, None\n",
        "  except ValueError:\n",
        "    return False, None  # Cannot convert return (False, None)\n",
        "\n",
        "def readInput(name, unit):\n",
        "  value = input(f\"Enter {name} ({unit}): \")\n",
        "  bool1, num    = try_parse_int(value)\n",
        "  while bool1 == False:\n",
        "    print(f\"Invalid input. Please enter positive number.\")\n",
        "    value     = input(f\"Enter {name} ({unit}): \")\n",
        "    bool1, num    = try_parse_int(value)\n",
        "  return num\n",
        "\n",
        "# MAIN\n",
        "def main():\n",
        "  # Input and validate inputs\n",
        "  Age     = readInput(\"Age\", \"years\")\n",
        "  Weight  = readInput(\"Weight\", \"pounds\")\n",
        "  HR      = readInput(\"Heart Rate\", \"beats per minute\")\n",
        "  Time    = readInput(\"Time\", \"minutes\")\n",
        "\n",
        "  # Call functions\n",
        "  total_women = calc_women_cal(Age, Weight, HR, Time)\n",
        "  total_men   = calc_men_cal(Age, Weight, HR, Time)\n",
        "  print(f\"Total Calories Burned During Workouts for women: {total_women:,.2f}\")\n",
        "  print(f\"Total Calories Burned During Workouts for   men: {total_men:,.2f}\")\n",
        "\n",
        "# Call MAIN\n",
        "main()"
      ],
      "metadata": {
        "id": "QVf7HLOF0-CI",
        "colab": {
          "base_uri": "https://localhost:8080/"
        },
        "outputId": "d3ab16ba-a319-4970-aa04-f3fc81ac9a85"
      },
      "execution_count": null,
      "outputs": [
        {
          "output_type": "stream",
          "name": "stdout",
          "text": [
            "Enter Age (years): asdsf\n",
            "Invalid input. Please enter positive number.\n",
            "Enter Age (years): 39\n",
            "Enter Weight (pounds): dafdaf\n",
            "Invalid input. Please enter positive number.\n",
            "Enter Weight (pounds): 121\n",
            "Enter Heart Rate (beats per minute): dsfdf\n",
            "Invalid input. Please enter positive number.\n",
            "Enter Heart Rate (beats per minute): dd\n",
            "Invalid input. Please enter positive number.\n",
            "Enter Heart Rate (beats per minute): 125\n",
            "Enter Time (minutes): fff\n",
            "Invalid input. Please enter positive number.\n",
            "Enter Time (minutes): fff\n",
            "Invalid input. Please enter positive number.\n",
            "Enter Time (minutes): ggg\n",
            "Invalid input. Please enter positive number.\n",
            "Enter Time (minutes): 180\n",
            "Total Calories Burned During Workouts for women: 1,950.16\n",
            "Total Calories Burned During Workouts for   men: 1,831.21\n"
          ]
        }
      ]
    },
    {
      "cell_type": "markdown",
      "source": [
        "#### **2.Simple statistics**\n",
        "\n",
        "You are given 4 floating-point numbers. Use a string formatting expression with conversion specifiers to output their product and their average as integers (rounded) and floating-point numbers.\n",
        "\n",
        "*   Output each rounded integer using the following:\n",
        "print('{:.0f}'.format(your_value))\n",
        "\n",
        "*   Output each floating-point value with three digits after the decimal point, which can be achieved as follows:\n",
        "print('{:.3f}'.format(your_value))"
      ],
      "metadata": {
        "id": "5ciXYtA31-Hy"
      }
    },
    {
      "cell_type": "code",
      "source": [
        "# Average Function\n",
        "def average(num):\n",
        "  return sum(num)/len(num)\n",
        "\n",
        "# Convert function\n",
        "def try_parse_float(value):\n",
        "    try:\n",
        "        return True, float(value)  #Can convert return (True, value)\n",
        "    except ValueError:\n",
        "        return False, None  # Cannot convert return (False, None)\n",
        "\n",
        "# MAIN\n",
        "def main():\n",
        "  # list of number\n",
        "  num_list = []\n",
        "\n",
        "  # input and validate input\n",
        "  input_num = input(\"Enter number (q to calculate average): \")\n",
        "  while input_num.lower() != \"q\":\n",
        "    bool1, num = try_parse_float(input_num)\n",
        "    if bool1 == True:\n",
        "      num_list.append(num)\n",
        "    else:\n",
        "      print(\"Invalid input. Please enter only number.\")\n",
        "    input_num = input(\"Enter number (q to calculate average): \")\n",
        "\n",
        "  # Calculate average\n",
        "  print(\"Enter Numbers are as follows:\")\n",
        "  for i in num_list:\n",
        "    print('- {:.0f}'.format(i))\n",
        "  print('Average is {:.3f}'.format(average(num_list)))\n",
        "\n",
        "# call MAIN\n",
        "main()"
      ],
      "metadata": {
        "id": "eeS9Vuzf4T2w",
        "colab": {
          "base_uri": "https://localhost:8080/"
        },
        "outputId": "de1e4757-f0eb-43e3-eaea-8aca8f5bf762"
      },
      "execution_count": null,
      "outputs": [
        {
          "output_type": "stream",
          "name": "stdout",
          "text": [
            "Enter number (q to calculate average): ccc\n",
            "Invalid input. Please enter only number.\n",
            "Enter number (q to calculate average): 1\n",
            "Enter number (q to calculate average): 2\n",
            "Enter number (q to calculate average): 3\n",
            "Enter number (q to calculate average): 4\n",
            "Enter number (q to calculate average): q\n",
            "Enter Numbers are as follows:\n",
            "- 1\n",
            "- 2\n",
            "- 3\n",
            "- 4\n",
            "Average is 2.500\n"
          ]
        }
      ]
    },
    {
      "cell_type": "markdown",
      "source": [
        "#### **3. Seasons**\n",
        "Write a program that takes a date as input and outputs the date's season. The input is a string to represent the month and an int to represent the day. In addition, check if the string and int are valid (an actual month and day).\n",
        "\n",
        "The dates for each season are:\n",
        "* Spring: March 20 - June 20\n",
        "* Summer: June 21 - September 21\n",
        "* Autumn: September 22 - December 20\n",
        "* Winter: December 21 - March 19"
      ],
      "metadata": {
        "id": "M9j7nCnM2ghh"
      }
    },
    {
      "cell_type": "code",
      "source": [
        "import datetime\n",
        "\n",
        "# Season Function\n",
        "def season(month, day):\n",
        "  # CONSTANTS\n",
        "  SPRING_START  = datetime.date(2000, 3, 20)\n",
        "  SUMMER_START  = datetime.date(2000, 6, 21)\n",
        "  AUTUMN_START  = datetime.date(2000, 9, 22)\n",
        "  WINTER_START  = datetime.date(2000, 12, 21)\n",
        "  STR_SPRING    = \"Spring\"\n",
        "  STR_SUMMER    = \"Summer\"\n",
        "  STR_AUTUMN    = \"Autumn\"\n",
        "  STR_WINTER    = \"Winter\"\n",
        "\n",
        "  # Convert input to date\n",
        "  booldate, input_date = validate_date(month, day)\n",
        "\n",
        "  # Determine the season based on the date ranges\n",
        "  if input_date >= SPRING_START   and input_date < SUMMER_START:\n",
        "    return STR_SPRING\n",
        "  elif input_date >= SUMMER_START and input_date < AUTUMN_START:\n",
        "    return STR_SUMMER\n",
        "  elif input_date >= AUTUMN_START and input_date < WINTER_START:\n",
        "    return STR_AUTUMN\n",
        "  else:\n",
        "    return STR_WINTER\n",
        "\n",
        "# get month number\n",
        "def get_month_num(month):\n",
        "  MONTH_SHORT = ['jan', 'feb', 'mar', 'apr', 'may', 'jun',\n",
        "                 'jul', 'aug', 'sep', 'oct', 'nov', 'dec']\n",
        "  MONTH_FULL = ['january', 'february', 'march', 'april', 'may', 'june',\n",
        "                'july', 'august', 'september', 'october', 'november', 'december']\n",
        "  try:\n",
        "    return MONTH_FULL.index(month.lower()) + 1\n",
        "  except ValueError:\n",
        "    try:\n",
        "      return MONTH_SHORT.index(month.lower()) + 1\n",
        "    except ValueError:\n",
        "      return -1\n",
        "    return -1\n",
        "\n",
        "# Validate date function\n",
        "def validate_date(month, day):\n",
        "  try:\n",
        "    date_Str = datetime.date(2000, month, day)\n",
        "    return True, date_Str #Can convert return (True, value)\n",
        "  except ValueError:\n",
        "    return False, None  # Cannot convert return (False, None)\n",
        "\n",
        "# Convert function\n",
        "def try_parse_int(value):\n",
        "    try:\n",
        "        return True, int(value)  #Can convert return (True, value)\n",
        "    except ValueError:\n",
        "        return False, None  # Cannot convert return (False, None)\n",
        "\n",
        "# MAIN\n",
        "def main():\n",
        "  month = input('Enter a month: ')\n",
        "  month_num = get_month_num(month)\n",
        "\n",
        "  # Validation month input\n",
        "  while month_num == -1:\n",
        "    print(\"Invalid month!\")\n",
        "    month = input('Enter a month: ')\n",
        "    month_num = get_month_num(month)\n",
        "\n",
        "  day = input('Enter a day: ')\n",
        "  bool1, day_num  = try_parse_int(day)\n",
        "  bool2, date_str = validate_date(month_num, day_num)\n",
        "\n",
        "  # Validaton date input\n",
        "  while bool1 == False or bool2 == False:\n",
        "    print(\"Invalid day!\")\n",
        "    day = input('Enter a day: ')\n",
        "    bool1, day_num  = try_parse_int(day)\n",
        "    bool2, date_str = validate_date(month_num, day_num)\n",
        "\n",
        "  print(season(month_num, day_num))\n",
        "\n",
        "# call MAIN\n",
        "main()"
      ],
      "metadata": {
        "id": "PDH4Ob86f1FP",
        "colab": {
          "base_uri": "https://localhost:8080/"
        },
        "outputId": "f2fefb3a-6b99-44d8-f908-20c728caf7db"
      },
      "execution_count": null,
      "outputs": [
        {
          "output_type": "stream",
          "name": "stdout",
          "text": [
            "Enter a month: feb\n",
            "Enter a day: 30\n",
            "Invalid day!\n",
            "Enter a day: 29\n",
            "Winter\n"
          ]
        }
      ]
    },
    {
      "cell_type": "markdown",
      "source": [
        "#### **4. Print string in reverse**\n",
        "\n",
        "Write a program that takes in a line of text as input, and outputs that line of text in reverse. The program repeats, ending when the user enters \"Done\", \"done\", or \"d\" for the line of text."
      ],
      "metadata": {
        "id": "rJHs97JJ3anM"
      }
    },
    {
      "cell_type": "code",
      "source": [
        "# Reverse Text\n",
        "def reverse_str(text):\n",
        "  return text[::-1]\n",
        "\n",
        "# MAIN\n",
        "def main():\n",
        "  text = input(\"Enter text (d, Done to quit): \")\n",
        "  while text.lower() not in ['d', 'done']:\n",
        "    print(reverse_str(text))\n",
        "    text = input(\"Enter text (d, Done to quit): \")\n",
        "\n",
        "  if text.lower() in ['d', 'done']:\n",
        "    print(\"Program exit!\")\n",
        "\n",
        "main()"
      ],
      "metadata": {
        "id": "QV79A5lk3gci",
        "colab": {
          "base_uri": "https://localhost:8080/"
        },
        "outputId": "ebc0dda5-7a6d-40aa-dfa9-224b0f6f0c80"
      },
      "execution_count": null,
      "outputs": [
        {
          "output_type": "stream",
          "name": "stdout",
          "text": [
            "Enter text (d, Done to quit): Hello\n",
            "olleH\n",
            "Enter text (d, Done to quit): done\n",
            "Program exit!\n"
          ]
        }
      ]
    },
    {
      "cell_type": "markdown",
      "source": [
        "#### **5. Step counter**\n",
        "\n",
        "A pedometer treats walking 2,000 steps as walking 1 mile. Write a program whose input is the number of steps and whose output is the miles walked. Your program must define and call the following function. The function should return the number of miles walked."
      ],
      "metadata": {
        "id": "KoUSdF4P3g2J"
      }
    },
    {
      "cell_type": "code",
      "source": [
        "# convert steps to miles function\n",
        "def step_to_mile(steps):\n",
        "  if steps < 0:\n",
        "    return 0\n",
        "  else:\n",
        "    return steps/2000\n",
        "\n",
        "# Convert function\n",
        "def try_parse_int(value):\n",
        "    try:\n",
        "        return True, int(value)  #Can convert return (True, value)\n",
        "    except ValueError:\n",
        "        return False, None  # Cannot convert return (False, None)\n",
        "\n",
        "# MAIN\n",
        "def main():\n",
        "  in_steps = input(\"Enter steps: \")\n",
        "  bool1, steps_num = try_parse_int(in_steps)\n",
        "  while bool1 == False:\n",
        "    print(\"Invalid input!\")\n",
        "    in_steps = input(\"Enter steps: \")\n",
        "    bool1, steps_num = try_parse_int(in_steps)\n",
        "\n",
        "  print(f\"The number of miles walked is {step_to_mile(steps_num):,.2f} miles\")\n",
        "\n",
        "# Call MAIN\n",
        "main()"
      ],
      "metadata": {
        "id": "CPzJihos3kQO",
        "colab": {
          "base_uri": "https://localhost:8080/"
        },
        "outputId": "43972a96-7a67-4eed-d79c-7a90e26e47e9"
      },
      "execution_count": null,
      "outputs": [
        {
          "output_type": "stream",
          "name": "stdout",
          "text": [
            "Enter steps: 600000000\n",
            "The number of miles walked is 300,000.00 miles\n"
          ]
        }
      ]
    }
  ]
}